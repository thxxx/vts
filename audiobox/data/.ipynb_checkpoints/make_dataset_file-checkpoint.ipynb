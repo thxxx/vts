{
 "cells": [
  {
   "cell_type": "code",
   "execution_count": null,
   "id": "b53fcc45-581a-44ec-8fdd-081ca582a043",
   "metadata": {},
   "outputs": [],
   "source": [
    "import os\n",
    "import pandas as pd\n",
    "from tqdm import tqdm\n",
    "import librosa\n",
    "from collections import defaultdict\n",
    "import re\n",
    "\n",
    "default_path = '/workspace/AVE_Dataset'\n",
    "res = \n",
    "\n",
    "latent_paths = os.listdir(f\"{default_path}/AVE_latents\")\n",
    "print(latent_paths[:5])\n",
    "print(os.listdir(f'{default_path}/AVE_audio/')[0])\n",
    "\n",
    "with open(f'{default_path}/Annotations.txt', 'r', encoding='utf-8') as f:\n",
    "    lines = f.readlines()  # 리스트 형태로 모든 줄 읽음\n",
    "\n",
    "datas = []\n",
    "infos = defaultdict(list)\n",
    "\n",
    "print(lines[:5])\n",
    "for line in tqdm(lines):\n",
    "    d = line.split(\"&\")\n",
    "    infos[d[1]] = [d[0]]"
   ]
  },
  {
   "cell_type": "code",
   "execution_count": null,
   "id": "b9d52b71-5d95-494e-9d03-beeeaafc6079",
   "metadata": {},
   "outputs": [],
   "source": [
    "datas = []\n",
    "for latent_path in tqdm(latent_paths):\n",
    "    latent_id = latent_path[:-len(\"_224res_24fps.npy\")]\n",
    "    audio_path = f'{default_path}/AVE_audio/{latent_id}_224res_24fps.wav'\n",
    "    caption = infos[latent_id]\n",
    "    audio, sr = librosa.load(audio_path)\n",
    "    duration = audio.shape[-1]/sr\n",
    "    video_latent_path = f\"{default_path}/AVE_latents/{latent_id}_128res_24fps.npy\"\n",
    "    if not os.path.exists(video_latent_path):\n",
    "        print(\"stops!\", video_latent_path)\n",
    "    audio_latent_path = f'{default_path}/AVE_audio_latent/{latent_id}_224res_24fps.npy'\n",
    "    if not os.path.exists(audio_latent_path):\n",
    "        print(\"stops!\", audio_latent_path)\n",
    "\n",
    "    datas.append({\n",
    "        \"video_latent_path\": video_latent_path,\n",
    "        \"caption\": caption[0],\n",
    "        \"duration\": duration,\n",
    "        \"audio_path\": audio_latent_path\n",
    "    })"
   ]
  }
 ],
 "metadata": {
  "kernelspec": {
   "display_name": "Python 3 (ipykernel)",
   "language": "python",
   "name": "python3"
  },
  "language_info": {
   "codemirror_mode": {
    "name": "ipython",
    "version": 3
   },
   "file_extension": ".py",
   "mimetype": "text/x-python",
   "name": "python",
   "nbconvert_exporter": "python",
   "pygments_lexer": "ipython3",
   "version": "3.11.11"
  }
 },
 "nbformat": 4,
 "nbformat_minor": 5
}
