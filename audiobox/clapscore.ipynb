{
 "cells": [
  {
   "cell_type": "code",
   "execution_count": 47,
   "id": "f79585a7-e497-42d5-8d3a-732f1dbf483a",
   "metadata": {},
   "outputs": [],
   "source": [
    "import numpy as np\n",
    "import librosa\n",
    "import torch\n",
    "import CLAP.src.laion_clap as laion_clap\n",
    "from sklearn.metrics.pairwise import cosine_similarity\n",
    "\n",
    "def int16_to_float32(x):\n",
    "    return (x / 32767.0).astype(np.float32)\n",
    "\n",
    "def float32_to_int16(x):\n",
    "    x = np.clip(x, a_min=-1., a_max=1.)\n",
    "    return (x * 32767.).astype(np.int16)\n",
    "\n",
    "def get_cosine_similarity(vector1, vector2):\n",
    "    similarity = cosine_similarity(vector1.reshape(1, -1), vector2.reshape(1, -1))\n",
    "    return similarity[0, 0]\n",
    "\n",
    "def euclidean_distance(tensor1, tensor2):\n",
    "    distance = np.linalg.norm(tensor1 - tensor2)\n",
    "    return distance"
   ]
  },
  {
   "cell_type": "code",
   "execution_count": 2,
   "id": "2be732c8-154b-4282-ac0c-40fa1a7e0a32",
   "metadata": {},
   "outputs": [
    {
     "name": "stderr",
     "output_type": "stream",
     "text": [
      "/usr/local/lib/python3.10/dist-packages/torch/functional.py:534: UserWarning: torch.meshgrid: in an upcoming release, it will be required to pass the indexing argument. (Triggered internally at ../aten/src/ATen/native/TensorShape.cpp:3595.)\n",
      "  return _VF.meshgrid(tensors, **kwargs)  # type: ignore[attr-defined]\n",
      "/usr/local/lib/python3.10/dist-packages/huggingface_hub/file_download.py:797: FutureWarning: `resume_download` is deprecated and will be removed in version 1.0.0. Downloads always resume when possible. If you want to force a new download, use `force_download=True`.\n",
      "  warnings.warn(\n",
      "Some weights of the model checkpoint at roberta-base were not used when initializing RobertaModel: ['lm_head.layer_norm.weight', 'lm_head.layer_norm.bias', 'lm_head.dense.weight', 'lm_head.bias', 'lm_head.dense.bias']\n",
      "- This IS expected if you are initializing RobertaModel from the checkpoint of a model trained on another task or with another architecture (e.g. initializing a BertForSequenceClassification model from a BertForPreTraining model).\n",
      "- This IS NOT expected if you are initializing RobertaModel from the checkpoint of a model that you expect to be exactly identical (initializing a BertForSequenceClassification model from a BertForSequenceClassification model).\n",
      "Some weights of RobertaModel were not initialized from the model checkpoint at roberta-base and are newly initialized: ['roberta.pooler.dense.weight', 'roberta.pooler.dense.bias']\n",
      "You should probably TRAIN this model on a down-stream task to be able to use it for predictions and inference.\n",
      "/tmp/ipykernel_8231/2416574822.py:3: FutureWarning: You are using `torch.load` with `weights_only=False` (the current default value), which uses the default pickle module implicitly. It is possible to construct malicious pickle data which will execute arbitrary code during unpickling (See https://github.com/pytorch/pytorch/blob/main/SECURITY.md#untrusted-models for more details). In a future release, the default value for `weights_only` will be flipped to `True`. This limits the functions that could be executed during unpickling. Arbitrary objects will no longer be allowed to be loaded via this mode unless they are explicitly allowlisted by the user via `torch.serialization.add_safe_globals`. We recommend you start setting `weights_only=True` for any use case where you don't have full control of the loaded file. Please open an issue on GitHub for any issues related to this experimental feature.\n",
      "  state_dict = torch.load(\"/workspace/clap_final_0520_augmentation_epoch_best_29.pth\")\n"
     ]
    },
    {
     "data": {
      "text/plain": [
       "<All keys matched successfully>"
      ]
     },
     "execution_count": 2,
     "metadata": {},
     "output_type": "execute_result"
    }
   ],
   "source": [
    "model = laion_clap.CLAP_Module(enable_fusion=False, amodel= 'HTSAT-base', device='cuda')\n",
    "\n",
    "state_dict = torch.load(\"/workspace/clap_final_0520_augmentation_epoch_best_29.pth\")\n",
    "new_state_dict = {}\n",
    "for k, v in state_dict.items():\n",
    "    if k.startswith(\"_orig_mod.\"):\n",
    "        new_key = k.replace(\"_orig_mod.\", \"\")\n",
    "    else:\n",
    "        new_key = k\n",
    "    new_state_dict[new_key] = v\n",
    "model.load_state_dict(new_state_dict)"
   ]
  },
  {
   "cell_type": "code",
   "execution_count": 20,
   "id": "00420055-ce9c-4e11-8a1e-dd077eac816e",
   "metadata": {},
   "outputs": [
    {
     "name": "stderr",
     "output_type": "stream",
     "text": [
      "  0%|          | 4/52482 [00:00<15:13, 57.46it/s]\n"
     ]
    },
    {
     "ename": "IndexError",
     "evalue": "single positional indexer is out-of-bounds",
     "output_type": "error",
     "traceback": [
      "\u001b[0;31m---------------------------------------------------------------------------\u001b[0m",
      "\u001b[0;31mIndexError\u001b[0m                                Traceback (most recent call last)",
      "Cell \u001b[0;32mIn[20], line 11\u001b[0m\n\u001b[1;32m      9\u001b[0m \u001b[38;5;28;01mfor\u001b[39;00m ap \u001b[38;5;129;01min\u001b[39;00m tqdm(aps):\n\u001b[1;32m     10\u001b[0m     ap \u001b[38;5;241m=\u001b[39m \u001b[38;5;124m'\u001b[39m\u001b[38;5;124m_\u001b[39m\u001b[38;5;124m'\u001b[39m\u001b[38;5;241m.\u001b[39mjoin(ap\u001b[38;5;241m.\u001b[39msplit(\u001b[38;5;124m\"\u001b[39m\u001b[38;5;124m_\u001b[39m\u001b[38;5;124m\"\u001b[39m)[\u001b[38;5;241m3\u001b[39m:])\n\u001b[0;32m---> 11\u001b[0m     data \u001b[38;5;241m=\u001b[39m \u001b[43mdf\u001b[49m\u001b[43m[\u001b[49m\u001b[43mdf\u001b[49m\u001b[43m[\u001b[49m\u001b[38;5;124;43m'\u001b[39;49m\u001b[38;5;124;43maudio_path\u001b[39;49m\u001b[38;5;124;43m'\u001b[39;49m\u001b[43m]\u001b[49m\u001b[38;5;241;43m.\u001b[39;49m\u001b[43mstr\u001b[49m\u001b[38;5;241;43m.\u001b[39;49m\u001b[43mcontains\u001b[49m\u001b[43m(\u001b[49m\u001b[43map\u001b[49m\u001b[43m[\u001b[49m\u001b[43m:\u001b[49m\u001b[38;5;241;43m-\u001b[39;49m\u001b[38;5;241;43m6\u001b[39;49m\u001b[43m]\u001b[49m\u001b[43m)\u001b[49m\u001b[43m]\u001b[49m\u001b[38;5;241;43m.\u001b[39;49m\u001b[43miloc\u001b[49m\u001b[43m[\u001b[49m\u001b[38;5;241;43m0\u001b[39;49m\u001b[43m]\u001b[49m\n\u001b[1;32m     12\u001b[0m     nap \u001b[38;5;241m=\u001b[39m data[\u001b[38;5;124m'\u001b[39m\u001b[38;5;124maudio_path\u001b[39m\u001b[38;5;124m'\u001b[39m]\n\u001b[1;32m     13\u001b[0m     nc \u001b[38;5;241m=\u001b[39m data[\u001b[38;5;124m'\u001b[39m\u001b[38;5;124mnew_caption\u001b[39m\u001b[38;5;124m'\u001b[39m]\n",
      "File \u001b[0;32m/usr/local/lib/python3.10/dist-packages/pandas/core/indexing.py:1191\u001b[0m, in \u001b[0;36m_LocationIndexer.__getitem__\u001b[0;34m(self, key)\u001b[0m\n\u001b[1;32m   1189\u001b[0m maybe_callable \u001b[38;5;241m=\u001b[39m com\u001b[38;5;241m.\u001b[39mapply_if_callable(key, \u001b[38;5;28mself\u001b[39m\u001b[38;5;241m.\u001b[39mobj)\n\u001b[1;32m   1190\u001b[0m maybe_callable \u001b[38;5;241m=\u001b[39m \u001b[38;5;28mself\u001b[39m\u001b[38;5;241m.\u001b[39m_check_deprecated_callable_usage(key, maybe_callable)\n\u001b[0;32m-> 1191\u001b[0m \u001b[38;5;28;01mreturn\u001b[39;00m \u001b[38;5;28;43mself\u001b[39;49m\u001b[38;5;241;43m.\u001b[39;49m\u001b[43m_getitem_axis\u001b[49m\u001b[43m(\u001b[49m\u001b[43mmaybe_callable\u001b[49m\u001b[43m,\u001b[49m\u001b[43m \u001b[49m\u001b[43maxis\u001b[49m\u001b[38;5;241;43m=\u001b[39;49m\u001b[43maxis\u001b[49m\u001b[43m)\u001b[49m\n",
      "File \u001b[0;32m/usr/local/lib/python3.10/dist-packages/pandas/core/indexing.py:1752\u001b[0m, in \u001b[0;36m_iLocIndexer._getitem_axis\u001b[0;34m(self, key, axis)\u001b[0m\n\u001b[1;32m   1749\u001b[0m     \u001b[38;5;28;01mraise\u001b[39;00m \u001b[38;5;167;01mTypeError\u001b[39;00m(\u001b[38;5;124m\"\u001b[39m\u001b[38;5;124mCannot index by location index with a non-integer key\u001b[39m\u001b[38;5;124m\"\u001b[39m)\n\u001b[1;32m   1751\u001b[0m \u001b[38;5;66;03m# validate the location\u001b[39;00m\n\u001b[0;32m-> 1752\u001b[0m \u001b[38;5;28;43mself\u001b[39;49m\u001b[38;5;241;43m.\u001b[39;49m\u001b[43m_validate_integer\u001b[49m\u001b[43m(\u001b[49m\u001b[43mkey\u001b[49m\u001b[43m,\u001b[49m\u001b[43m \u001b[49m\u001b[43maxis\u001b[49m\u001b[43m)\u001b[49m\n\u001b[1;32m   1754\u001b[0m \u001b[38;5;28;01mreturn\u001b[39;00m \u001b[38;5;28mself\u001b[39m\u001b[38;5;241m.\u001b[39mobj\u001b[38;5;241m.\u001b[39m_ixs(key, axis\u001b[38;5;241m=\u001b[39maxis)\n",
      "File \u001b[0;32m/usr/local/lib/python3.10/dist-packages/pandas/core/indexing.py:1685\u001b[0m, in \u001b[0;36m_iLocIndexer._validate_integer\u001b[0;34m(self, key, axis)\u001b[0m\n\u001b[1;32m   1683\u001b[0m len_axis \u001b[38;5;241m=\u001b[39m \u001b[38;5;28mlen\u001b[39m(\u001b[38;5;28mself\u001b[39m\u001b[38;5;241m.\u001b[39mobj\u001b[38;5;241m.\u001b[39m_get_axis(axis))\n\u001b[1;32m   1684\u001b[0m \u001b[38;5;28;01mif\u001b[39;00m key \u001b[38;5;241m>\u001b[39m\u001b[38;5;241m=\u001b[39m len_axis \u001b[38;5;129;01mor\u001b[39;00m key \u001b[38;5;241m<\u001b[39m \u001b[38;5;241m-\u001b[39mlen_axis:\n\u001b[0;32m-> 1685\u001b[0m     \u001b[38;5;28;01mraise\u001b[39;00m \u001b[38;5;167;01mIndexError\u001b[39;00m(\u001b[38;5;124m\"\u001b[39m\u001b[38;5;124msingle positional indexer is out-of-bounds\u001b[39m\u001b[38;5;124m\"\u001b[39m)\n",
      "\u001b[0;31mIndexError\u001b[0m: single positional indexer is out-of-bounds"
     ]
    }
   ],
   "source": [
    "import pandas as pd\n",
    "from tqdm import tqdm\n",
    "import os\n",
    "\n",
    "aps = os.listdir(\"outputs\")\n",
    "df = pd.read_csv(\"/workspace/labeled_ss_sfx.csv\")\n",
    "\n",
    "generateds = []\n",
    "for ap in tqdm(aps):\n",
    "    ap = '_'.join(ap.split(\"_\")[3:])\n",
    "    data = df[df['audio_path'].str.contains(ap[:-6])].iloc[0]\n",
    "    nap = data['audio_path']\n",
    "    nc = data['new_caption']\n",
    "    generateds.append({\n",
    "        'audio_path': nap,\n",
    "        'caption': nc\n",
    "    })\n",
    "pd.DataFrame(generateds).to_csv(\"gens.csv\")"
   ]
  },
  {
   "cell_type": "code",
   "execution_count": 22,
   "id": "33afb607-1f2d-4672-a34b-6c9ca20bc556",
   "metadata": {},
   "outputs": [],
   "source": []
  },
  {
   "cell_type": "code",
   "execution_count": 15,
   "id": "8b667a28-7c9b-4c98-8420-1428a6e3a632",
   "metadata": {},
   "outputs": [],
   "source": [
    "import sys\n",
    "import pandas as pd\n",
    "\n",
    "# 출력 길이 제한 늘리기\n",
    "pd.set_option('display.max_colwidth', None)"
   ]
  },
  {
   "cell_type": "code",
   "execution_count": 23,
   "id": "49a1a7b6-3381-42ed-8651-c1caa0df92f0",
   "metadata": {},
   "outputs": [
    {
     "data": {
      "text/html": [
       "<div>\n",
       "<style scoped>\n",
       "    .dataframe tbody tr th:only-of-type {\n",
       "        vertical-align: middle;\n",
       "    }\n",
       "\n",
       "    .dataframe tbody tr th {\n",
       "        vertical-align: top;\n",
       "    }\n",
       "\n",
       "    .dataframe thead th {\n",
       "        text-align: right;\n",
       "    }\n",
       "</style>\n",
       "<table border=\"1\" class=\"dataframe\">\n",
       "  <thead>\n",
       "    <tr style=\"text-align: right;\">\n",
       "      <th></th>\n",
       "      <th>Unnamed: 0</th>\n",
       "      <th>audio_path</th>\n",
       "      <th>cosiine_similarity</th>\n",
       "      <th>new_caption</th>\n",
       "      <th>caption</th>\n",
       "      <th>duration</th>\n",
       "    </tr>\n",
       "  </thead>\n",
       "  <tbody>\n",
       "    <tr>\n",
       "      <th>0</th>\n",
       "      <td>0</td>\n",
       "      <td>./outputs/music_loops_page_158_85880-Lil_Wayne_21-90bpm_0.wav</td>\n",
       "      <td>0</td>\n",
       "      <td>A 90 bpm hip hop beat played on electric drums, mostly on the snare and hit-hats.</td>\n",
       "      <td>85880 Lil Wayne 21 90bpm</td>\n",
       "      <td>10.710204</td>\n",
       "    </tr>\n",
       "    <tr>\n",
       "      <th>1</th>\n",
       "      <td>1</td>\n",
       "      <td>./outputs/music_loops_page_158_85880-Lil_Wayne_21-90bpm_1.wav</td>\n",
       "      <td>0</td>\n",
       "      <td>A 90 bpm hip hop beat played on electric drums, mostly on the snare and hit-hats.</td>\n",
       "      <td>85880 Lil Wayne 21 90bpm</td>\n",
       "      <td>10.710204</td>\n",
       "    </tr>\n",
       "    <tr>\n",
       "      <th>2</th>\n",
       "      <td>2</td>\n",
       "      <td>./outputs/comic_film_fx_page_1274_541327-zapsplat-foley-wooden-box-case-set-down-gently-hard-surface-005-61780_0.wav</td>\n",
       "      <td>0</td>\n",
       "      <td>A small wooden box being set on wooden floor planks.</td>\n",
       "      <td>541327 zapsplat foley wooden box case set down gently hard surface 005 61780</td>\n",
       "      <td>0.595238</td>\n",
       "    </tr>\n",
       "    <tr>\n",
       "      <th>3</th>\n",
       "      <td>3</td>\n",
       "      <td>./outputs/comic_film_fx_page_1274_541327-zapsplat-foley-wooden-box-case-set-down-gently-hard-surface-005-61780_1.wav</td>\n",
       "      <td>0</td>\n",
       "      <td>A small wooden box being set on wooden floor planks.</td>\n",
       "      <td>541327 zapsplat foley wooden box case set down gently hard surface 005 61780</td>\n",
       "      <td>0.595238</td>\n",
       "    </tr>\n",
       "    <tr>\n",
       "      <th>4</th>\n",
       "      <td>4</td>\n",
       "      <td>./outputs/multimedia_page_658_253013-SW001-8-Bit-Games-356-3xSound-Combinations-Wacky_0.wav</td>\n",
       "      <td>0</td>\n",
       "      <td>An 8-bit high-pitched swelling static sound effect.</td>\n",
       "      <td>253013 SW001 8 Bit Games 356 3xSound Combinations Wacky</td>\n",
       "      <td>2.246531</td>\n",
       "    </tr>\n",
       "    <tr>\n",
       "      <th>...</th>\n",
       "      <td>...</td>\n",
       "      <td>...</td>\n",
       "      <td>...</td>\n",
       "      <td>...</td>\n",
       "      <td>...</td>\n",
       "      <td>...</td>\n",
       "    </tr>\n",
       "    <tr>\n",
       "      <th>19995</th>\n",
       "      <td>19995</td>\n",
       "      <td>./outputs/comic_film_fx_page_392_445263-125-Hydrophone-Underwater-Mono-96000-24_1.wav</td>\n",
       "      <td>0</td>\n",
       "      <td>Splashing and bubbling sound when water is moving underwater</td>\n",
       "      <td>445263 125 Hydrophone Underwater Mono 96000 24</td>\n",
       "      <td>5.000000</td>\n",
       "    </tr>\n",
       "    <tr>\n",
       "      <th>19996</th>\n",
       "      <td>19996</td>\n",
       "      <td>./outputs/human_page_1147_67698-Young_male_trucker_interior_cab_cb_radio_voice_says_that-s_a_big_10-4-BLASTWAVEFX-05463_0.wav</td>\n",
       "      <td>0</td>\n",
       "      <td>A male voice over a radio says, \"That's a big 10 4\"</td>\n",
       "      <td>67698 Young male trucker interior cab cb radio voice says that s a big 10 4 BLASTWAVEFX 05463</td>\n",
       "      <td>1.933061</td>\n",
       "    </tr>\n",
       "    <tr>\n",
       "      <th>19997</th>\n",
       "      <td>19997</td>\n",
       "      <td>./outputs/human_page_1147_67698-Young_male_trucker_interior_cab_cb_radio_voice_says_that-s_a_big_10-4-BLASTWAVEFX-05463_1.wav</td>\n",
       "      <td>0</td>\n",
       "      <td>A male voice over a radio says, \"That's a big 10 4\"</td>\n",
       "      <td>67698 Young male trucker interior cab cb radio voice says that s a big 10 4 BLASTWAVEFX 05463</td>\n",
       "      <td>1.933061</td>\n",
       "    </tr>\n",
       "    <tr>\n",
       "      <th>19998</th>\n",
       "      <td>19998</td>\n",
       "      <td>./outputs/multimedia_page_882_505890-SBsfi2-Bleep_Select_002_0.wav</td>\n",
       "      <td>0</td>\n",
       "      <td>A high-pitched beeping sound effect when a device finishes scanning an object</td>\n",
       "      <td>505890 SBsfi2 Bleep Select 002</td>\n",
       "      <td>0.948571</td>\n",
       "    </tr>\n",
       "    <tr>\n",
       "      <th>19999</th>\n",
       "      <td>19999</td>\n",
       "      <td>./outputs/multimedia_page_882_505890-SBsfi2-Bleep_Select_002_1.wav</td>\n",
       "      <td>0</td>\n",
       "      <td>A high-pitched beeping sound effect when a device finishes scanning an object</td>\n",
       "      <td>505890 SBsfi2 Bleep Select 002</td>\n",
       "      <td>0.948571</td>\n",
       "    </tr>\n",
       "  </tbody>\n",
       "</table>\n",
       "<p>20000 rows × 6 columns</p>\n",
       "</div>"
      ],
      "text/plain": [
       "       Unnamed: 0  \\\n",
       "0               0   \n",
       "1               1   \n",
       "2               2   \n",
       "3               3   \n",
       "4               4   \n",
       "...           ...   \n",
       "19995       19995   \n",
       "19996       19996   \n",
       "19997       19997   \n",
       "19998       19998   \n",
       "19999       19999   \n",
       "\n",
       "                                                                                                                          audio_path  \\\n",
       "0                                                                      ./outputs/music_loops_page_158_85880-Lil_Wayne_21-90bpm_0.wav   \n",
       "1                                                                      ./outputs/music_loops_page_158_85880-Lil_Wayne_21-90bpm_1.wav   \n",
       "2               ./outputs/comic_film_fx_page_1274_541327-zapsplat-foley-wooden-box-case-set-down-gently-hard-surface-005-61780_0.wav   \n",
       "3               ./outputs/comic_film_fx_page_1274_541327-zapsplat-foley-wooden-box-case-set-down-gently-hard-surface-005-61780_1.wav   \n",
       "4                                        ./outputs/multimedia_page_658_253013-SW001-8-Bit-Games-356-3xSound-Combinations-Wacky_0.wav   \n",
       "...                                                                                                                              ...   \n",
       "19995                                          ./outputs/comic_film_fx_page_392_445263-125-Hydrophone-Underwater-Mono-96000-24_1.wav   \n",
       "19996  ./outputs/human_page_1147_67698-Young_male_trucker_interior_cab_cb_radio_voice_says_that-s_a_big_10-4-BLASTWAVEFX-05463_0.wav   \n",
       "19997  ./outputs/human_page_1147_67698-Young_male_trucker_interior_cab_cb_radio_voice_says_that-s_a_big_10-4-BLASTWAVEFX-05463_1.wav   \n",
       "19998                                                             ./outputs/multimedia_page_882_505890-SBsfi2-Bleep_Select_002_0.wav   \n",
       "19999                                                             ./outputs/multimedia_page_882_505890-SBsfi2-Bleep_Select_002_1.wav   \n",
       "\n",
       "       cosiine_similarity  \\\n",
       "0                       0   \n",
       "1                       0   \n",
       "2                       0   \n",
       "3                       0   \n",
       "4                       0   \n",
       "...                   ...   \n",
       "19995                   0   \n",
       "19996                   0   \n",
       "19997                   0   \n",
       "19998                   0   \n",
       "19999                   0   \n",
       "\n",
       "                                                                             new_caption  \\\n",
       "0      A 90 bpm hip hop beat played on electric drums, mostly on the snare and hit-hats.   \n",
       "1      A 90 bpm hip hop beat played on electric drums, mostly on the snare and hit-hats.   \n",
       "2                                   A small wooden box being set on wooden floor planks.   \n",
       "3                                   A small wooden box being set on wooden floor planks.   \n",
       "4                                    An 8-bit high-pitched swelling static sound effect.   \n",
       "...                                                                                  ...   \n",
       "19995                       Splashing and bubbling sound when water is moving underwater   \n",
       "19996                                A male voice over a radio says, \"That's a big 10 4\"   \n",
       "19997                                A male voice over a radio says, \"That's a big 10 4\"   \n",
       "19998      A high-pitched beeping sound effect when a device finishes scanning an object   \n",
       "19999      A high-pitched beeping sound effect when a device finishes scanning an object   \n",
       "\n",
       "                                                                                             caption  \\\n",
       "0                                                                           85880 Lil Wayne 21 90bpm   \n",
       "1                                                                           85880 Lil Wayne 21 90bpm   \n",
       "2                       541327 zapsplat foley wooden box case set down gently hard surface 005 61780   \n",
       "3                       541327 zapsplat foley wooden box case set down gently hard surface 005 61780   \n",
       "4                                            253013 SW001 8 Bit Games 356 3xSound Combinations Wacky   \n",
       "...                                                                                              ...   \n",
       "19995                                                 445263 125 Hydrophone Underwater Mono 96000 24   \n",
       "19996  67698 Young male trucker interior cab cb radio voice says that s a big 10 4 BLASTWAVEFX 05463   \n",
       "19997  67698 Young male trucker interior cab cb radio voice says that s a big 10 4 BLASTWAVEFX 05463   \n",
       "19998                                                                 505890 SBsfi2 Bleep Select 002   \n",
       "19999                                                                 505890 SBsfi2 Bleep Select 002   \n",
       "\n",
       "        duration  \n",
       "0      10.710204  \n",
       "1      10.710204  \n",
       "2       0.595238  \n",
       "3       0.595238  \n",
       "4       2.246531  \n",
       "...          ...  \n",
       "19995   5.000000  \n",
       "19996   1.933061  \n",
       "19997   1.933061  \n",
       "19998   0.948571  \n",
       "19999   0.948571  \n",
       "\n",
       "[20000 rows x 6 columns]"
      ]
     },
     "execution_count": 23,
     "metadata": {},
     "output_type": "execute_result"
    }
   ],
   "source": [
    "df = pd.read_csv('running.csv')\n",
    "df"
   ]
  },
  {
   "cell_type": "code",
   "execution_count": null,
   "id": "8b710dac-d18e-49e6-8417-c703cf0621de",
   "metadata": {},
   "outputs": [],
   "source": []
  },
  {
   "cell_type": "code",
   "execution_count": 52,
   "id": "c958bf42-fd33-4b0d-84b2-6a80704a444a",
   "metadata": {},
   "outputs": [
    {
     "name": "stderr",
     "output_type": "stream",
     "text": [
      "100%|██████████| 20000/20000 [41:44<00:00,  7.99it/s] \n"
     ]
    },
    {
     "name": "stdout",
     "output_type": "stream",
     "text": [
      "0.2221825357604539\n"
     ]
    }
   ],
   "source": [
    "import torchaudio\n",
    "\n",
    "model.eval()\n",
    "\n",
    "total = 0\n",
    "claps = []\n",
    "for i in tqdm(range(len(df))):\n",
    "    data = df.iloc[i]\n",
    "    caption = data['new_caption']\n",
    "    \n",
    "    text_embed = model.get_text_embedding([caption])\n",
    "    all_embeds = [\n",
    "        torchaudio.load(data['audio_path']),\n",
    "    ]\n",
    "\n",
    "    audio_embed = model.get_audio_embedding_from_data(x = [np.array(all_embeds[0][0][0])])\n",
    "    simil = get_cosine_similarity(audio_embed, text_embed)\n",
    "    total += simil.item()\n",
    "    claps.append({\n",
    "        'audio_path': data['audio_path'],\n",
    "        'cosiine_similarity': simil.item(),\n",
    "        'new_caption': caption,\n",
    "        'caption': data['caption'],\n",
    "    })\n",
    "\n",
    "pd.DataFrame(claps).to_csv(\"get_cosines.csv\")\n",
    "print(total/len(df))"
   ]
  },
  {
   "cell_type": "code",
   "execution_count": null,
   "id": "999567e7-2fb0-470f-a300-31aa8ff7351c",
   "metadata": {},
   "outputs": [],
   "source": []
  },
  {
   "cell_type": "code",
   "execution_count": 1,
   "id": "cf0d849d-4886-4b5e-8873-92d33210c505",
   "metadata": {},
   "outputs": [],
   "source": [
    "from msclap import CLAP\n",
    "from torch.nn import functional as F\n",
    "import torch\n",
    "\n",
    "clap = CLAP(version=\"2023\", use_cuda=torch.cuda.is_available())"
   ]
  },
  {
   "cell_type": "code",
   "execution_count": 2,
   "id": "25f1ba54-823b-484c-b898-5c519f06cc0c",
   "metadata": {},
   "outputs": [],
   "source": [
    "@torch.no_grad()\n",
    "@torch.autocast(device_type=\"cuda\", enabled=False)\n",
    "def clap_rank(audios, texts):\n",
    "    # audios = audios.mean(dim=-1)\n",
    "    audios = audios.float()\n",
    "    text_embed = clap.get_text_embeddings(texts)\n",
    "    audio_embed = clap.clap.audio_encoder(audios)[0]\n",
    "\n",
    "    similarity = F.cosine_similarity(text_embed, audio_embed)\n",
    "    args = torch.argsort(similarity, dim=0, descending=True)\n",
    "    return similarity"
   ]
  },
  {
   "cell_type": "code",
   "execution_count": 3,
   "id": "46271513-617d-43d1-b17c-cd5838db30fa",
   "metadata": {},
   "outputs": [
    {
     "name": "stderr",
     "output_type": "stream",
     "text": [
      "100%|██████████| 20000/20000 [50:36<00:00,  6.59it/s] \n"
     ]
    },
    {
     "name": "stdout",
     "output_type": "stream",
     "text": [
      "0.36061684184131443\n"
     ]
    }
   ],
   "source": [
    "import torchaudio\n",
    "from tqdm import tqdm\n",
    "import pandas as pd\n",
    "\n",
    "df = pd.read_csv(\"running.csv\")\n",
    "\n",
    "total = 0\n",
    "claps = []\n",
    "for i in tqdm(range(len(df))):\n",
    "    data = df.iloc[i]\n",
    "    caption = data['new_caption']\n",
    "    \n",
    "    audio, sr = torchaudio.load(data['audio_path'])\n",
    "    audio = audio / audio.abs().amax(dim=1, keepdim=True).clamp_min(1)\n",
    "\n",
    "    simil = clap_rank(audio[0].unsqueeze(dim=0).to('cuda'), [caption])\n",
    "    total += simil.item()\n",
    "    claps.append({\n",
    "        'audio_path': data['audio_path'],\n",
    "        'cosiine_similarity': simil.item(),\n",
    "        'new_caption': caption,\n",
    "        'caption': data['caption'],\n",
    "    })\n",
    "\n",
    "pd.DataFrame(claps).to_csv(\"get_cosines_ms.csv\")\n",
    "print(total/len(df))"
   ]
  },
  {
   "cell_type": "code",
   "execution_count": 6,
   "id": "2de8a86c-fd61-40b6-825f-2beaf5bd4635",
   "metadata": {},
   "outputs": [
    {
     "data": {
      "text/plain": [
       "'./outputs/music_loops_page_158_85880-Lil_Wayne_21-90bpm_0.wav'"
      ]
     },
     "execution_count": 6,
     "metadata": {},
     "output_type": "execute_result"
    }
   ],
   "source": [
    "import pandas as pd\n",
    "import torchaudio\n",
    "\n",
    "df = pd.read_csv(\"running.csv\")\n",
    "df.iloc[0]['audio_path']"
   ]
  },
  {
   "cell_type": "code",
   "execution_count": 7,
   "id": "784c6fa7-2bb1-4a12-a71a-4591a9952390",
   "metadata": {},
   "outputs": [],
   "source": [
    "audio, sr = torchaudio.load('./outputs/music_loops_page_158_85880-Lil_Wayne_21-90bpm_0.wav')"
   ]
  },
  {
   "cell_type": "code",
   "execution_count": 8,
   "id": "02b9d6e8-ea94-48e4-ae9d-db89dbb2af75",
   "metadata": {},
   "outputs": [],
   "source": [
    "audio = audio / audio.abs().amax(dim=1, keepdim=True).clamp_min(1)"
   ]
  },
  {
   "cell_type": "code",
   "execution_count": 18,
   "id": "af914b37-5357-4fba-95d3-1304c56cdf79",
   "metadata": {},
   "outputs": [
    {
     "data": {
      "text/plain": [
       "torch.Size([1, 1, 441000])"
      ]
     },
     "execution_count": 18,
     "metadata": {},
     "output_type": "execute_result"
    }
   ],
   "source": [
    "audio[0].unsqueeze(dim=0).unsqueeze(dim=0).shape"
   ]
  },
  {
   "cell_type": "code",
   "execution_count": 33,
   "id": "00bcc9df-54f8-4603-a711-025becb2955d",
   "metadata": {},
   "outputs": [],
   "source": []
  },
  {
   "cell_type": "code",
   "execution_count": 38,
   "id": "003ab037-6fcb-4989-a5fe-db3e3324e52a",
   "metadata": {},
   "outputs": [
    {
     "name": "stdout",
     "output_type": "stream",
     "text": [
      "torch.Size([1, 441000])\n",
      "torch.Size([1, 441000])\n"
     ]
    }
   ],
   "source": [
    "sim = clap_rank(audio[0].unsqueeze(dim=0).to('cuda'), ['test'])"
   ]
  },
  {
   "cell_type": "code",
   "execution_count": null,
   "id": "8ac8de6a-5b0f-4e2e-a34d-0658ff6ef699",
   "metadata": {},
   "outputs": [],
   "source": [
    "sim"
   ]
  },
  {
   "cell_type": "code",
   "execution_count": null,
   "id": "26f66d6d-6280-4640-afb4-195c26d70d19",
   "metadata": {},
   "outputs": [],
   "source": []
  },
  {
   "cell_type": "code",
   "execution_count": 4,
   "id": "2b064726-792e-40f6-a5f7-4de0ac0866da",
   "metadata": {},
   "outputs": [],
   "source": [
    "df1 = pd.read_csv(\"get_cosines.csv\")\n",
    "df2 = pd.read_csv(\"get_cosines_ms.csv\")"
   ]
  },
  {
   "cell_type": "code",
   "execution_count": 7,
   "id": "138124bd-1b53-4d3c-a3dd-4ffedbf3ae7e",
   "metadata": {},
   "outputs": [],
   "source": [
    "df_sorted1 = df1.sort_values(by=\"cosiine_similarity\")\n",
    "df_sorted2 = df2.sort_values(by=\"cosiine_similarity\")"
   ]
  },
  {
   "cell_type": "code",
   "execution_count": 19,
   "id": "e53b0432-b961-408e-812f-755f83a6767d",
   "metadata": {},
   "outputs": [
    {
     "name": "stdout",
     "output_type": "stream",
     "text": [
      "The sound of a woman coughing twice -0.1708285957574844\n",
      "\n",
      "\n",
      "The sound of a person snorting with a sniffle -0.1588117182254791\n",
      "\n",
      "\n",
      "The sound of a person snorting with a sniffle -0.1569676697254181\n",
      "\n",
      "\n",
      "The scraping sound of scratching a wooden surface -0.1410888731479644\n",
      "\n",
      "\n",
      "The heavy breathing sound of someone using a gas mask -0.1369206011295318\n",
      "\n",
      "\n",
      "The heavy breathing sound of someone using a gas mask -0.1306816935539245\n",
      "\n",
      "\n",
      "The sound of a woman coughing twice -0.1304907500743866\n",
      "\n",
      "\n",
      "Hammering a wooden plank once -0.1265505254268646\n",
      "\n",
      "\n",
      "The scraping sound of scratching a wooden surface -0.1206145212054252\n",
      "\n",
      "\n",
      "Rustling sound of handling a tactical backpack -0.1180179491639137\n",
      "\n",
      "\n",
      "A sound effect of a high-pitched, metallic clank sound of two swords striking each other, with a delay and decay effect. 0.713029146194458\n",
      "\n",
      "\n",
      "Someone spraying short squeaky bursts from an air freshener can multiple times. 0.7121791243553162\n",
      "\n",
      "\n",
      "An ascending high-pitched, high-frequency sound effect of insects chirping used in a sci-fi movie, before gradually fading. 0.7080739736557007\n",
      "\n",
      "\n",
      "A samurai sword being swung 9 times. 0.6990536451339722\n",
      "\n",
      "\n",
      "A dog panting happily. 0.6965901851654053\n",
      "\n",
      "\n",
      "The squeaking sound of rusty kitchen cabinet door hinges as they open and close 0.6893359422683716\n",
      "\n",
      "\n",
      "A cinematic sound effect of a bass drum struck once, with added reverb 0.6876695156097412\n",
      "\n",
      "\n",
      "The sharp rattling, whirring and wobbling sound of a ceramic bowl spinning on a wooden table before gradually coming to rest. 0.6865324974060059\n",
      "\n",
      "\n",
      "A maraca is shaken continuously for a few moments. 0.6839513778686523\n",
      "\n",
      "\n"
     ]
    }
   ],
   "source": [
    "from audiotools import AudioSignal\n",
    "\n",
    "for i in range(10):\n",
    "    print(df_sorted2.iloc[i]['new_caption'], df_sorted2.iloc[i]['cosiine_similarity'])\n",
    "    # AudioSignal(df_sorted2.iloc[i]['audio_path']).widget()\n",
    "    print(\"\\n\")\n",
    "\n",
    "for i in range(1, 10):\n",
    "    print(df_sorted2.iloc[-i]['new_caption'], df_sorted2.iloc[-i]['cosiine_similarity'])\n",
    "    # AudioSignal(df_sorted2.iloc[-i]['audio_path']).widget()\n",
    "    print(\"\\n\")"
   ]
  },
  {
   "cell_type": "code",
   "execution_count": null,
   "id": "030d6a6d-1074-424e-8780-a3d6466b1b01",
   "metadata": {},
   "outputs": [],
   "source": []
  },
  {
   "cell_type": "code",
   "execution_count": 18,
   "id": "6be34d0c-7f90-4dfa-b839-17e17adf327d",
   "metadata": {},
   "outputs": [
    {
     "name": "stdout",
     "output_type": "stream",
     "text": [
      "A vibrating soft, light synth sound effect. -0.2051395028829574\n",
      "\n",
      "\n",
      "The sound of an arrow being loaded into a wooden bow. -0.1994385570287704\n",
      "\n",
      "\n",
      "Wood drawer with rusted iron rollers pulls out quickly -0.1960050612688064\n",
      "\n",
      "\n",
      "Someone drops a small stone into a bucket of water, creating a splashing noise. -0.1794668138027191\n",
      "\n",
      "\n",
      "The whirring sound of a small eco-friendly motorcycle passes by. -0.1772372275590896\n",
      "\n",
      "\n",
      "A robotic plane beeping and flying by -0.1744576692581176\n",
      "\n",
      "\n",
      "Sound effect in game, rocket fast whoosh -0.1719337105751037\n",
      "\n",
      "\n",
      "unplayable -0.1668865978717804\n",
      "\n",
      "\n",
      "The sound of a machine cover opening and sliding. -0.1664419770240783\n",
      "\n",
      "\n",
      "Scraping sound when pushing a metal cabinet on a concrete surface 0.6321414709091187\n",
      "\n",
      "\n",
      "The whirring sound of opening a drawer filled with silverware, as it makes a thump when the drawer is fully opened and the silverware clatters, twice 0.6281040906906128\n",
      "\n",
      "\n",
      "Someone playing a single reverberated note on a piano, given a fantasy and heavenly sound effect. 0.6262401342391968\n",
      "\n",
      "\n",
      "A boing sound effect when an alien or astronaut jumps and falls in a sci-fi movie, twice 0.621501088142395\n",
      "\n",
      "\n",
      "Scraping sound when pushing a metal cabinet on a concrete surface 0.6110219955444336\n",
      "\n",
      "\n",
      "Someone opening and closing the lid of a glass jar container twice. 0.6078177690505981\n",
      "\n",
      "\n",
      "A piano chord being played. 0.6038960218429565\n",
      "\n",
      "\n",
      "A woman on a computer saying \"Permission denied, incorrect authorization code, activating automatic lockdown.\" 0.6035577058792114\n",
      "\n",
      "\n",
      "Someone opening and closing the lid of a glass jar container twice. 0.6032171249389648\n",
      "\n",
      "\n"
     ]
    }
   ],
   "source": [
    "from audiotools import AudioSignal\n",
    "\n",
    "for i in range(1, 10):\n",
    "    print(df_sorted1.iloc[i]['new_caption'], df_sorted1.iloc[i]['cosiine_similarity'])\n",
    "    # AudioSignal(df_sorted1.iloc[i]['audio_path']).widget()\n",
    "    print(\"\\n\")\n",
    "for i in range(1, 10):\n",
    "    print(df_sorted1.iloc[-i]['new_caption'], df_sorted1.iloc[-i]['cosiine_similarity'])\n",
    "    # AudioSignal(df_sorted1.iloc[-i]['audio_path']).widget()\n",
    "    print(\"\\n\")"
   ]
  },
  {
   "cell_type": "code",
   "execution_count": 16,
   "id": "f98e6006-27bc-4907-a90a-3807badef361",
   "metadata": {},
   "outputs": [
    {
     "data": {
      "text/plain": [
       "4443.650715209078"
      ]
     },
     "execution_count": 16,
     "metadata": {},
     "output_type": "execute_result"
    }
   ],
   "source": [
    "sum(df_sorted1['cosiine_similarity'].to_list())"
   ]
  },
  {
   "cell_type": "code",
   "execution_count": 17,
   "id": "af8c500f-b2e3-4d2e-afdc-d85c4f2b0e1e",
   "metadata": {},
   "outputs": [
    {
     "data": {
      "text/plain": [
       "7212.336836826289"
      ]
     },
     "execution_count": 17,
     "metadata": {},
     "output_type": "execute_result"
    }
   ],
   "source": [
    "sum(df_sorted2['cosiine_similarity'].to_list())"
   ]
  },
  {
   "cell_type": "code",
   "execution_count": null,
   "id": "19d171b3-1f48-4a1b-b30c-69f5868bbe01",
   "metadata": {},
   "outputs": [],
   "source": []
  }
 ],
 "metadata": {
  "kernelspec": {
   "display_name": "Python 3 (ipykernel)",
   "language": "python",
   "name": "python3"
  },
  "language_info": {
   "codemirror_mode": {
    "name": "ipython",
    "version": 3
   },
   "file_extension": ".py",
   "mimetype": "text/x-python",
   "name": "python",
   "nbconvert_exporter": "python",
   "pygments_lexer": "ipython3",
   "version": "3.10.12"
  }
 },
 "nbformat": 4,
 "nbformat_minor": 5
}
