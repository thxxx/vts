{
 "cells": [
  {
   "cell_type": "code",
   "execution_count": 1,
   "id": "4eafbf40-4693-452e-a2f0-9c114efda029",
   "metadata": {},
   "outputs": [
    {
     "name": "stdout",
     "output_type": "stream",
     "text": [
      "4097\n"
     ]
    }
   ],
   "source": [
    "import subprocess\n",
    "import os\n",
    "from tqdm import tqdm\n",
    "\n",
    "dir_path = '/workspace/AVE_Dataset/AVE/'\n",
    "pro_path = '/workspace/AVE_Dataset/AVE_processed/'\n",
    "files = os.listdir(dir_path)\n",
    "print(len(files))\n",
    "\n",
    "os.makedirs(pro_path, exist_ok=True)\n",
    "\n",
    "def process_video(input_path: str, output_path: str):\n",
    "    cmd = [\n",
    "        \"ffmpeg\",\n",
    "        \"-y\",  # 기존 파일 덮어쓰기\n",
    "        \"-i\", input_path,  # 입력 파일\n",
    "        \"-t\", \"10\",  # 앞 5초만 추출\n",
    "        \"-vf\", \"crop='min(in_w, in_h)':'min(in_w, in_h)',scale=128:128,fps=16\",  # 중앙 crop 후 resize + fps\n",
    "        \"-an\",  # 오디오 제거 (필요 시 제거)\n",
    "        output_path\n",
    "    ]\n",
    "    \n",
    "    subprocess.run(cmd, check=True)\n",
    "\n",
    "def process_video(input_path: str, output_path: str):\n",
    "    cmd = [\n",
    "        \"ffmpeg\",\n",
    "        \"-y\",\n",
    "        \"-i\", input_path,\n",
    "        \"-t\", \"10\",\n",
    "        \"-vf\", (\n",
    "            \"crop='min(in_w\\\\,in_h)':'min(in_w\\\\,in_h)':\"\n",
    "            \"(in_w - min(in_w\\\\,in_h))/2:\"\n",
    "            \"(in_h - min(in_w\\\\,in_h))/2,\"\n",
    "            \"scale=128:128,\"\n",
    "            \"fps=24\"\n",
    "        ),\n",
    "        output_path\n",
    "    ]\n",
    "\n",
    "    import subprocess\n",
    "    subprocess.run(cmd, check=True, stdout=subprocess.DEVNULL, stderr=subprocess.DEVNULL)"
   ]
  },
  {
   "cell_type": "code",
   "execution_count": 2,
   "id": "1b81c1c0-4aef-404a-8575-33b8cb05baca",
   "metadata": {},
   "outputs": [
    {
     "name": "stdout",
     "output_type": "stream",
     "text": [
      "시작\n"
     ]
    },
    {
     "name": "stderr",
     "output_type": "stream",
     "text": [
      "100%|██████████| 4097/4097 [27:37<00:00,  2.47it/s]\n"
     ]
    }
   ],
   "source": [
    "import os\n",
    "from multiprocessing import Pool\n",
    "from tqdm import tqdm\n",
    "\n",
    "def process_video_wrapper(args):\n",
    "    input_path, output_path = args\n",
    "    try:\n",
    "        process_video(input_path, output_path)\n",
    "    except Exception as e:\n",
    "        print(\"ERror : \", e)\n",
    "\n",
    "def process_all_videos(files, dir_path, pro_path):\n",
    "    args_list = [\n",
    "        (os.path.join(dir_path, fp), os.path.join(pro_path, fp[:-4] + \"_126res_24fps.mp4\"))\n",
    "        for fp in files\n",
    "    ]\n",
    "\n",
    "    with Pool(processes=6) as pool:\n",
    "        list(tqdm(pool.imap_unordered(process_video_wrapper, args_list), total=len(args_list)))\n",
    "\n",
    "print('시작')\n",
    "process_all_videos(files, dir_path, pro_path)"
   ]
  },
  {
   "cell_type": "code",
   "execution_count": 6,
   "id": "b03b4612-5260-4992-832a-9375ac54a5a2",
   "metadata": {},
   "outputs": [
    {
     "name": "stdout",
     "output_type": "stream",
     "text": [
      "시작\n"
     ]
    },
    {
     "name": "stderr",
     "output_type": "stream",
     "text": [
      "100%|██████████| 4097/4097 [01:34<00:00, 43.38it/s]\n"
     ]
    }
   ],
   "source": [
    "import ffmpeg\n",
    "import os\n",
    "from multiprocessing import Pool\n",
    "from tqdm import tqdm\n",
    "\n",
    "dir_path = '/workspace/AVE_Dataset/AVE_processed/'\n",
    "files = os.listdir(dir_path)\n",
    "audio_path = '/workspace/AVE_Dataset/AVE_audio/'\n",
    "os.makedirs(audio_path, exist_ok=True)\n",
    "\n",
    "def extract_audio(input_video_path, output_audio_path):\n",
    "    (\n",
    "        ffmpeg\n",
    "        .input(input_video_path)\n",
    "        .output(output_audio_path, format='wav', acodec='pcm_s16le', ac=1, ar='44100')\n",
    "        .run(quiet=True)\n",
    "    )\n",
    "\n",
    "def process_audio_wrapper(args):\n",
    "    input_path, output_path = args\n",
    "    try:\n",
    "        extract_audio(input_path, output_path)\n",
    "    except Exception as e:\n",
    "        print(\"Error : \", e)\n",
    "\n",
    "def process_all_audios(files, dir_path, pro_path):\n",
    "    args_list = [\n",
    "        (os.path.join(dir_path, fp), os.path.join(pro_path, fp[:-4] + \".wav\"))\n",
    "        for fp in files\n",
    "    ]\n",
    "\n",
    "    with Pool(processes=4) as pool:\n",
    "        list(tqdm(pool.imap_unordered(process_audio_wrapper, args_list), total=len(args_list)))\n",
    "\n",
    "print('시작')\n",
    "process_all_audios(files, dir_path, audio_path)\n",
    "# extract_audio(dir_path+files[0], 'output_test.wav')"
   ]
  },
  {
   "cell_type": "code",
   "execution_count": 5,
   "id": "b91da1b1-f7e1-4ed5-a895-a8043e25e525",
   "metadata": {},
   "outputs": [
    {
     "data": {
      "text/plain": [
       "'_tGdoqj0Qh8.mp4'"
      ]
     },
     "execution_count": 5,
     "metadata": {},
     "output_type": "execute_result"
    }
   ],
   "source": [
    "files[0]"
   ]
  },
  {
   "cell_type": "code",
   "execution_count": null,
   "id": "00bb96c3-0db5-4e5e-b126-d545ac6ba186",
   "metadata": {},
   "outputs": [],
   "source": [
    "from datasets import load_dataset\n",
    "\n",
    "ds = load_dataset(\"Loie/VGGSound\")"
   ]
  }
 ],
 "metadata": {
  "kernelspec": {
   "display_name": "Python 3 (ipykernel)",
   "language": "python",
   "name": "python3"
  },
  "language_info": {
   "codemirror_mode": {
    "name": "ipython",
    "version": 3
   },
   "file_extension": ".py",
   "mimetype": "text/x-python",
   "name": "python",
   "nbconvert_exporter": "python",
   "pygments_lexer": "ipython3",
   "version": "3.11.11"
  }
 },
 "nbformat": 4,
 "nbformat_minor": 5
}
