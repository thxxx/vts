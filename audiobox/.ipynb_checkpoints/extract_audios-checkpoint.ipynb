{
 "cells": [
  {
   "cell_type": "code",
   "execution_count": null,
   "id": "ced31ca4-c03e-4dab-bb17-5e7fb669d19e",
   "metadata": {},
   "outputs": [],
   "source": [
    "# extract stable audio vae latent from audio and save, with same file name nut .npy, and directory + _latent\n",
    "from vocos import get_voco\n",
    "\n",
    "voco = get_voco(\"oobleck\")\n",
    "voco.to('cuda')"
   ]
  },
  {
   "cell_type": "code",
   "execution_count": null,
   "id": "c523943c-e8ff-4e11-b0c8-602eb6c6b3aa",
   "metadata": {},
   "outputs": [],
   "source": [
    "import torch\n",
    "\n",
    "picks = torch.load(\"text_alignment_v3_0414_65000.ckpt\")"
   ]
  },
  {
   "cell_type": "code",
   "execution_count": null,
   "id": "dea3f7d8-37ba-474f-a429-97fbba6f2968",
   "metadata": {},
   "outputs": [],
   "source": [
    "picks['hyper_parameters']"
   ]
  },
  {
   "cell_type": "code",
   "execution_count": null,
   "id": "a33e5fd2-b318-45ee-9e86-06d3b39f1f57",
   "metadata": {},
   "outputs": [],
   "source": []
  },
  {
   "cell_type": "code",
   "execution_count": null,
   "id": "cb5d5061-3483-484b-84eb-dff3e0c38269",
   "metadata": {},
   "outputs": [],
   "source": [
    "import librosa\n",
    "import torchaudio\n",
    "from einops import rearrange\n",
    "import re\n",
    "import os\n",
    "from tqdm import tqdm\n",
    "import numpy as np\n",
    "import torch\n",
    "\n",
    "audios_dir = '/workspace/AVE_Dataset/AVE_audio/'\n",
    "save_dir = '/workspace/AVE_Dataset/AVE_audio_latent/'\n",
    "audio_files = os.listdir(audios_dir)\n",
    "os.makedirs(save_dir, exist_ok=True)\n",
    "\n",
    "for af in tqdm(audio_files):\n",
    "    audio, sr = librosa.load(audios_dir + af, sr=voco.sampling_rate, mono=False)\n",
    "    audio = torch.tensor(audio)\n",
    "    if len(audio.shape) == 1:\n",
    "        audio = torch.stack([audio, audio])\n",
    "    audio = rearrange(audio, 'c n -> n c')\n",
    "    \n",
    "    lt = voco.encode(audio.unsqueeze(dim=0).to('cuda')).squeeze()[:215, :].cpu().float().numpy()\n",
    "    save_path = re.sub(\"\\.wav\", \".npy\", save_dir+af)\n",
    "    np.save(save_path, lt)"
   ]
  },
  {
   "cell_type": "code",
   "execution_count": null,
   "id": "38105b16-5c09-45e5-ab17-d77034664be5",
   "metadata": {},
   "outputs": [],
   "source": [
    "assd = (0, 1, 2)\n",
    "assd[:-1]"
   ]
  },
  {
   "cell_type": "code",
   "execution_count": null,
   "id": "eee2cfad-2b6a-44e9-b7c6-fc62e4e9fe3b",
   "metadata": {},
   "outputs": [],
   "source": []
  },
  {
   "cell_type": "code",
   "execution_count": 3,
   "id": "42e83ca1-7adf-479e-a139-8e68bd3b8345",
   "metadata": {},
   "outputs": [
    {
     "name": "stdout",
     "output_type": "stream",
     "text": [
      "Total video nums :  4097\n",
      "Video processing 시작 : 378 resolution, 8 fps, first 8 seconds\n"
     ]
    },
    {
     "name": "stderr",
     "output_type": "stream",
     "text": [
      "100%|██████████| 4097/4097 [41:34<00:00,  1.64it/s] \n"
     ]
    }
   ],
   "source": [
    "original_video_path = '/workspace/AVE_Dataset/AVE/'\n",
    "res = 378\n",
    "fps = 8\n",
    "seconds = 8\n",
    "\n",
    "import subprocess\n",
    "import os\n",
    "from tqdm import tqdm\n",
    "from multiprocessing import Pool\n",
    "\n",
    "processed_video_path = f'{original_video_path[:-1]}_processed/'\n",
    "os.makedirs(processed_video_path, exist_ok=True)\n",
    "\n",
    "files = os.listdir(original_video_path)\n",
    "print(\"Total video nums : \", len(files))\n",
    "\n",
    "\n",
    "def process_video(input_path: str, output_path: str):\n",
    "    cmd = [\n",
    "        \"ffmpeg\",\n",
    "        \"-y\",\n",
    "        \"-i\", input_path,\n",
    "        \"-t\", f\"{seconds}\",\n",
    "        \"-vf\", (\n",
    "            \"crop='min(in_w\\\\,in_h)':'min(in_w\\\\,in_h)':\"\n",
    "            \"(in_w - min(in_w\\\\,in_h))/2:\"\n",
    "            \"(in_h - min(in_w\\\\,in_h))/2,\"\n",
    "            f\"scale={res}:{res},\"\n",
    "            f\"fps={fps}\"\n",
    "        ),\n",
    "        output_path\n",
    "    ]\n",
    "\n",
    "    import subprocess\n",
    "    subprocess.run(cmd, check=True, stdout=subprocess.DEVNULL, stderr=subprocess.DEVNULL)\n",
    "\n",
    "def process_video_wrapper(args):\n",
    "    input_path, output_path = args\n",
    "    try:\n",
    "        process_video(input_path, output_path)\n",
    "    except Exception as e:\n",
    "        print(\"ERror : \", e)\n",
    "\n",
    "def process_all_videos(files, dir_path, pro_path):\n",
    "    args_list = [\n",
    "        (os.path.join(dir_path, fp), os.path.join(pro_path, fp[:-4] + f\"_{res}res_{fps}fps.mp4\"))\n",
    "        for fp in files\n",
    "    ]\n",
    "\n",
    "    with Pool(processes=4) as pool:\n",
    "        list(tqdm(pool.imap_unordered(process_video_wrapper, args_list), total=len(args_list)))\n",
    "\n",
    "print(f\"Video processing 시작 : {res} resolution, {fps} fps, first {seconds} seconds\")\n",
    "process_all_videos(files, original_video_path, processed_video_path)"
   ]
  },
  {
   "cell_type": "code",
   "execution_count": null,
   "id": "f47a04b9-f8bf-48e5-ad25-9f01f09164dc",
   "metadata": {},
   "outputs": [],
   "source": []
  },
  {
   "cell_type": "code",
   "execution_count": null,
   "id": "7207ea0e-5a3f-435a-a279-0fae1986c301",
   "metadata": {},
   "outputs": [],
   "source": []
  }
 ],
 "metadata": {
  "kernelspec": {
   "display_name": "Python 3 (ipykernel)",
   "language": "python",
   "name": "python3"
  },
  "language_info": {
   "codemirror_mode": {
    "name": "ipython",
    "version": 3
   },
   "file_extension": ".py",
   "mimetype": "text/x-python",
   "name": "python",
   "nbconvert_exporter": "python",
   "pygments_lexer": "ipython3",
   "version": "3.11.11"
  }
 },
 "nbformat": 4,
 "nbformat_minor": 5
}
