{
 "cells": [
  {
   "cell_type": "code",
   "execution_count": 1,
   "id": "acfd87b6-7fb3-4616-9ea1-f71a17ee6fd8",
   "metadata": {},
   "outputs": [
    {
     "name": "stderr",
     "output_type": "stream",
     "text": [
      "/usr/local/lib/python3.10/dist-packages/torchvision/io/image.py:13: UserWarning: Failed to load image Python extension: '/usr/local/lib/python3.10/dist-packages/torchvision/image.so: undefined symbol: _ZN3c1017RegisterOperatorsD1Ev'If you don't plan on using image functionality from `torchvision.io`, you can ignore this warning. Otherwise, there might be something wrong with your environment. Did you have `libjpeg` or `libpng` installed before building `torchvision` from source?\n",
      "  warn(\n",
      "/usr/local/lib/python3.10/dist-packages/huggingface_hub/file_download.py:797: FutureWarning: `resume_download` is deprecated and will be removed in version 1.0.0. Downloads always resume when possible. If you want to force a new download, use `force_download=True`.\n",
      "  warnings.warn(\n",
      "/usr/local/lib/python3.10/dist-packages/torch/functional.py:534: UserWarning: torch.meshgrid: in an upcoming release, it will be required to pass the indexing argument. (Triggered internally at ../aten/src/ATen/native/TensorShape.cpp:3595.)\n",
      "  return _VF.meshgrid(tensors, **kwargs)  # type: ignore[attr-defined]\n",
      "/usr/local/lib/python3.10/dist-packages/huggingface_hub/file_download.py:797: FutureWarning: `resume_download` is deprecated and will be removed in version 1.0.0. Downloads always resume when possible. If you want to force a new download, use `force_download=True`.\n",
      "  warnings.warn(\n",
      "Some weights of the model checkpoint at roberta-base were not used when initializing RobertaModel: ['lm_head.layer_norm.weight', 'lm_head.dense.bias', 'lm_head.bias', 'lm_head.layer_norm.bias', 'lm_head.dense.weight']\n",
      "- This IS expected if you are initializing RobertaModel from the checkpoint of a model trained on another task or with another architecture (e.g. initializing a BertForSequenceClassification model from a BertForPreTraining model).\n",
      "- This IS NOT expected if you are initializing RobertaModel from the checkpoint of a model that you expect to be exactly identical (initializing a BertForSequenceClassification model from a BertForSequenceClassification model).\n",
      "Some weights of RobertaModel were not initialized from the model checkpoint at roberta-base and are newly initialized: ['roberta.pooler.dense.weight', 'roberta.pooler.dense.bias']\n",
      "You should probably TRAIN this model on a down-stream task to be able to use it for predictions and inference.\n"
     ]
    }
   ],
   "source": [
    "# CLAP Score compare\n",
    "import numpy as np\n",
    "import librosa\n",
    "import torch\n",
    "import CLAP.src.laion_clap as laion_clap\n",
    "\n",
    "# quantization\n",
    "def int16_to_float32(x):\n",
    "    return (x / 32767.0).astype(np.float32)\n",
    "\n",
    "def float32_to_int16(x):\n",
    "    x = np.clip(x, a_min=-1., a_max=1.)\n",
    "    return (x * 32767.).astype(np.int16)\n",
    "\n",
    "# model = laion_clap.CLAP_Module(enable_fusion=False)\n",
    "# model.to('cuda')\n",
    "# model.load_ckpt(model_id=1) # best model_id depends on what kind of data we use. 1 is good for short sound (not music, speech)\n",
    "\n",
    "model = laion_clap.CLAP_Module(enable_fusion=False, amodel= 'HTSAT-base', device='cuda')"
   ]
  },
  {
   "cell_type": "code",
   "execution_count": 2,
   "id": "27dd44c1-c434-4cab-82e0-94ae40c06461",
   "metadata": {},
   "outputs": [
    {
     "name": "stderr",
     "output_type": "stream",
     "text": [
      "/tmp/ipykernel_6782/3371456055.py:2: FutureWarning: You are using `torch.load` with `weights_only=False` (the current default value), which uses the default pickle module implicitly. It is possible to construct malicious pickle data which will execute arbitrary code during unpickling (See https://github.com/pytorch/pytorch/blob/main/SECURITY.md#untrusted-models for more details). In a future release, the default value for `weights_only` will be flipped to `True`. This limits the functions that could be executed during unpickling. Arbitrary objects will no longer be allowed to be loaded via this mode unless they are explicitly allowlisted by the user via `torch.serialization.add_safe_globals`. We recommend you start setting `weights_only=True` for any use case where you don't have full control of the loaded file. Please open an issue on GitHub for any issues related to this experimental feature.\n",
      "  state_dict = torch.load(\"/workspace/clap_final_0520_augmentation_epoch_best_29.pth\")\n"
     ]
    },
    {
     "data": {
      "text/plain": [
       "<All keys matched successfully>"
      ]
     },
     "execution_count": 2,
     "metadata": {},
     "output_type": "execute_result"
    }
   ],
   "source": [
    "# 모델 정의\n",
    "state_dict = torch.load(\"/workspace/clap_final_0520_augmentation_epoch_best_29.pth\")\n",
    "\n",
    "# 불필요한 prefix 제거\n",
    "new_state_dict = {}\n",
    "for k, v in state_dict.items():\n",
    "    if k.startswith(\"_orig_mod.\"):\n",
    "        new_key = k.replace(\"_orig_mod.\", \"\")\n",
    "    else:\n",
    "        new_key = k\n",
    "    new_state_dict[new_key] = v\n",
    "\n",
    "# 모델에 로드\n",
    "model.load_state_dict(new_state_dict)"
   ]
  },
  {
   "cell_type": "code",
   "execution_count": 3,
   "id": "42fd9616-f00c-4404-9a85-1d2b39c15341",
   "metadata": {},
   "outputs": [],
   "source": [
    "from sklearn.metrics.pairwise import cosine_similarity\n",
    "\n",
    "def cosine_distance(vector1, vector2):\n",
    "    similarity = cosine_similarity(vector1.reshape(1, -1), vector2.reshape(1, -1))\n",
    "    distance = 1 - similarity[0, 0]\n",
    "    return distance\n",
    "\n",
    "def euclidean_distance(tensor1, tensor2):\n",
    "    distance = np.linalg.norm(tensor1 - tensor2)\n",
    "    return distance"
   ]
  },
  {
   "cell_type": "code",
   "execution_count": 5,
   "id": "dc91ec87-4de9-4664-9ed2-4d0db416cd66",
   "metadata": {},
   "outputs": [
    {
     "name": "stderr",
     "output_type": "stream",
     "text": [
      "2it [00:00, 13.09it/s]"
     ]
    },
    {
     "name": "stdout",
     "output_type": "stream",
     "text": [
      "1.1603121757507324\n",
      "1.1504960507154465\n",
      "1.1063140407204628\n"
     ]
    },
    {
     "name": "stderr",
     "output_type": "stream",
     "text": [
      "5it [00:00, 11.20it/s]"
     ]
    },
    {
     "name": "stdout",
     "output_type": "stream",
     "text": [
      "0.8348836898803711\n",
      "0.7635250389575958\n"
     ]
    },
    {
     "name": "stderr",
     "output_type": "stream",
     "text": [
      "\n"
     ]
    }
   ],
   "source": [
    "import torchaudio\n",
    "from tqdm import tqdm\n",
    "\n",
    "# audio_embed = torchaudio.load('/workspace/alignment-v3/audiobox/Chess piece falling down_0.wav')[0][0]\n",
    "# print(audio_embed.shape)\n",
    "# print(np.array(audio_embed).shape)\n",
    "# model.get_audio_embedding_from_data(x = [np.array(audio_embed)])\n",
    "\n",
    "text_embed = model.get_text_embedding(\n",
    "    ['chess piece falling down']\n",
    ")\n",
    "\n",
    "text = 'Chess piece falling down'\n",
    "all_embeds = [\n",
    "    torchaudio.load(f'/workspace/alignment-v3/audiobox/{text}_0.wav')[0][0],\n",
    "    torchaudio.load(f'/workspace/alignment-v3/audiobox/{text}_1.wav')[0][0],\n",
    "    torchaudio.load(f'/workspace/alignment-v3/audiobox/{text}_2.wav')[0][0],\n",
    "    torchaudio.load(f'/workspace/alignment-v3/audiobox/{text}_3.wav')[0][0],\n",
    "    torchaudio.load(f'/workspace/alignment-v3/audiobox/{text}_4.wav')[0][0],\n",
    "]\n",
    "\n",
    "for idx, audio_embed in tqdm(enumerate(all_embeds)):\n",
    "    audio_embed = model.get_audio_embedding_from_data(x = [np.array(audio_embed)])\n",
    "    cod = cosine_distance(audio_embed, text_embed[0])\n",
    "    print(cod)"
   ]
  },
  {
   "cell_type": "code",
   "execution_count": null,
   "id": "32cf0687-3d81-4dce-9cc7-eaf110e4c0f0",
   "metadata": {},
   "outputs": [],
   "source": [
    "from sklearn.metrics.pairwise import cosine_similarity\n",
    "\n",
    "def cosine_distance(vector1, vector2):\n",
    "    similarity = cosine_similarity(vector1.reshape(1, -1), vector2.reshape(1, -1))\n",
    "    distance = 1 - similarity[0, 0]\n",
    "    return distance\n",
    "\n",
    "def euclidean_distance(tensor1, tensor2):\n",
    "    distance = np.linalg.norm(tensor1 - tensor2)\n",
    "    return distance\n",
    "\n",
    "dd = datas.iloc[216]\n",
    "print(dd, \"\\n\\n\")\n",
    "\n",
    "audio_embed = model.get_audio_embedding_from_filelist(x = [dd['audio_path']])\n",
    "text_embed = model.get_text_embedding([\"explosion\"])\n",
    "\n",
    "print(cosine_distance(audio_embed[0], text_embed[0]))"
   ]
  },
  {
   "cell_type": "code",
   "execution_count": null,
   "id": "405200cf-6c69-41e3-9500-2ce086b36861",
   "metadata": {},
   "outputs": [],
   "source": [
    "wav, sr = librosa.load(datas.iloc[0]['audio_path'])\n",
    "wav.shape"
   ]
  },
  {
   "cell_type": "code",
   "execution_count": null,
   "id": "aa248c88-7f8a-4c13-9e5d-f5f53cc1c6b9",
   "metadata": {},
   "outputs": [],
   "source": []
  },
  {
   "cell_type": "code",
   "execution_count": 1,
   "id": "bc381791-a7cc-4bd5-a813-6874b298b2bc",
   "metadata": {},
   "outputs": [],
   "source": [
    "import pandas as pd\n",
    "\n",
    "df = pd.read_csv(\"./Supabase Snippet Track User Generations After First Payment.csv\")"
   ]
  },
  {
   "cell_type": "code",
   "execution_count": null,
   "id": "06059e71-7da1-443a-aec1-1f0cdb3e1473",
   "metadata": {},
   "outputs": [],
   "source": []
  },
  {
   "cell_type": "code",
   "execution_count": 9,
   "id": "7320dd20-17c2-4b6a-ae2c-68cbdb2247ae",
   "metadata": {},
   "outputs": [
    {
     "name": "stdout",
     "output_type": "stream",
     "text": [
      "54\n"
     ]
    }
   ],
   "source": [
    "print(len(df[(df['generation_count'] >= 20)]))"
   ]
  },
  {
   "cell_type": "code",
   "execution_count": 10,
   "id": "6f094d4f-35d1-454d-87a9-d2d03aa2bb2f",
   "metadata": {},
   "outputs": [
    {
     "name": "stdout",
     "output_type": "stream",
     "text": [
      "12\n"
     ]
    }
   ],
   "source": [
    "print(len(df[(df['generation_count'] > 10) & (df['generation_count'] < 20)]))"
   ]
  },
  {
   "cell_type": "code",
   "execution_count": 11,
   "id": "bb92bba2-303d-4375-b5a2-f6932a0cbb07",
   "metadata": {},
   "outputs": [
    {
     "name": "stdout",
     "output_type": "stream",
     "text": [
      "20\n"
     ]
    }
   ],
   "source": [
    "print(len(df[(df['generation_count'] >= 80)]))"
   ]
  },
  {
   "cell_type": "code",
   "execution_count": 12,
   "id": "12776aa9-c0bb-48a4-9d20-45693b21adc0",
   "metadata": {},
   "outputs": [
    {
     "name": "stdout",
     "output_type": "stream",
     "text": [
      "4\n"
     ]
    }
   ],
   "source": [
    "print(len(df[(df['generation_count'] >= 200)]))"
   ]
  },
  {
   "cell_type": "code",
   "execution_count": null,
   "id": "2d46174c-e978-4556-bd67-14292200eb18",
   "metadata": {},
   "outputs": [],
   "source": []
  },
  {
   "cell_type": "code",
   "execution_count": 2,
   "id": "9a033a79-dc4e-429f-abb2-7101947aa4d4",
   "metadata": {},
   "outputs": [
    {
     "name": "stdout",
     "output_type": "stream",
     "text": [
      "52482\n"
     ]
    }
   ],
   "source": [
    "import os\n",
    "\n",
    "print(len(os.listdir(\"outputs\")))"
   ]
  },
  {
   "cell_type": "code",
   "execution_count": null,
   "id": "9d0a18ea-43bd-4acb-a53d-5240b2afefc9",
   "metadata": {},
   "outputs": [],
   "source": [
    "//code in JS\n",
    "const header={\n",
    "\t\t'Content-Type': 'application/json',\n",
    "\t\t'Authorization': `Bearer ${api_key}`\n",
    "};\n",
    "\n",
    "const payload={\n",
    "\t\t'input': {\n",
    "\t\t\t\t'generation_type': \"api-v2\",\n",
    "\t\t    'descriptions': [gunshot sound],\n",
    "\t\t    'duration': 1.0,\n",
    "\t\t    'original_download_urls': [],\n",
    "\t\t    'temperature': null,\n",
    "\t\t    'is_magic_prompt': true,\n",
    "\t  }\n",
    "};\n",
    "\n",
    "//sending the generation request\n",
    "const run_response=await fetch(\n",
    "\t  RUN_ENDPOINT,\n",
    "\t  {\n",
    "\t\t    method: \"POST\",\n",
    "\t\t    headers: header,\n",
    "\t\t    body: JSON.stringify(payload),\n",
    "\t  }\n",
    ");\n",
    "const response_data=await run_response.json();\n",
    "\n",
    "//getting the job id\n",
    "const job_id=response_data['id'];"
   ]
  }
 ],
 "metadata": {
  "kernelspec": {
   "display_name": "Python 3 (ipykernel)",
   "language": "python",
   "name": "python3"
  },
  "language_info": {
   "codemirror_mode": {
    "name": "ipython",
    "version": 3
   },
   "file_extension": ".py",
   "mimetype": "text/x-python",
   "name": "python",
   "nbconvert_exporter": "python",
   "pygments_lexer": "ipython3",
   "version": "3.10.12"
  }
 },
 "nbformat": 4,
 "nbformat_minor": 5
}
